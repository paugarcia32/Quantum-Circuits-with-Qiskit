{
 "cells": [
  {
   "cell_type": "code",
   "execution_count": 3,
   "id": "2ad8edbd",
   "metadata": {},
   "outputs": [],
   "source": [
    "from qiskit import QuantumCircuit, transpile, assemble\n",
    "from qiskit_aer import Aer\n",
    "from qiskit.circuit.library import QFT\n",
    "import numpy as np\n",
    "from qiskit.visualization import plot_histogram, plot_bloch_multivector"
   ]
  },
  {
   "cell_type": "code",
   "execution_count": 4,
   "id": "ee49bb3f",
   "metadata": {},
   "outputs": [],
   "source": [
    "def qpe_circuit(unitary, eigenstate, num_qubits):\n",
    "    # Crear el circuito con los qubits necesarios\n",
    "    qc = QuantumCircuit(num_qubits + 1, num_qubits)\n",
    "\n",
    "    # Aplicar Hadamard a todos los qubits del registro de fase\n",
    "    for qubit in range(num_qubits):\n",
    "        qc.h(qubit)\n",
    "\n",
    "    # Aplicar las puertas de control-Unitario\n",
    "    for qubit in range(num_qubits):\n",
    "        qc.cp(2 * np.pi / 2*(qubit + 1), qubit, num_qubits)\n",
    "\n",
    "    # Aplicar QFT Inversa\n",
    "    qc.append(QFT(num_qubits, inverse=True), range(num_qubits))\n",
    "\n",
    "    # Medir los qubits del registro de fase\n",
    "    qc.measure(range(num_qubits), range(num_qubits))\n",
    "\n",
    "    return qc"
   ]
  },
  {
   "cell_type": "code",
   "execution_count": 5,
   "id": "01356aa6",
   "metadata": {},
   "outputs": [],
   "source": [
    "num_qubits = 3"
   ]
  },
  {
   "cell_type": "code",
   "execution_count": 8,
   "id": "51437a16",
   "metadata": {},
   "outputs": [],
   "source": [
    "theta = 0.25\n",
    "unitary = QuantumCircuit(1)\n",
    "unitary.rz(2* np.pi * theta, 0)\n",
    "unitary_gate = unitary.to_gate().control()"
   ]
  },
  {
   "cell_type": "code",
   "execution_count": 10,
   "id": "efa5ed56",
   "metadata": {},
   "outputs": [
    {
     "data": {
      "text/plain": [
       "<qiskit.circuit.instructionset.InstructionSet at 0x1b75ba6a050>"
      ]
     },
     "execution_count": 10,
     "metadata": {},
     "output_type": "execute_result"
    }
   ],
   "source": [
    "eigenstate = QuantumCircuit(1)\n",
    "eigenstate.h(0)"
   ]
  },
  {
   "cell_type": "code",
   "execution_count": null,
   "id": "0c1a37d9",
   "metadata": {},
   "outputs": [],
   "source": []
  }
 ],
 "metadata": {
  "kernelspec": {
   "display_name": "Python 3 (ipykernel)",
   "language": "python",
   "name": "python3"
  },
  "language_info": {
   "codemirror_mode": {
    "name": "ipython",
    "version": 3
   },
   "file_extension": ".py",
   "mimetype": "text/x-python",
   "name": "python",
   "nbconvert_exporter": "python",
   "pygments_lexer": "ipython3",
   "version": "3.11.4"
  }
 },
 "nbformat": 4,
 "nbformat_minor": 5
}
