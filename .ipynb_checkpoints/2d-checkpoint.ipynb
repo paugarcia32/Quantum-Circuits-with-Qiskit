{
 "cells": [
  {
   "cell_type": "code",
   "execution_count": 2,
   "id": "1f55ab1f",
   "metadata": {},
   "outputs": [
    {
     "ename": "ImportError",
     "evalue": "cannot import name 'execute' from 'qiskit' (C:\\Users\\pauga\\AppData\\Roaming\\Python\\Python311\\site-packages\\qiskit\\__init__.py)",
     "output_type": "error",
     "traceback": [
      "\u001b[1;31m---------------------------------------------------------------------------\u001b[0m",
      "\u001b[1;31mImportError\u001b[0m                               Traceback (most recent call last)",
      "Cell \u001b[1;32mIn[2], line 1\u001b[0m\n\u001b[1;32m----> 1\u001b[0m \u001b[38;5;28;01mfrom\u001b[39;00m \u001b[38;5;21;01mqiskit\u001b[39;00m \u001b[38;5;28;01mimport\u001b[39;00m QuantumCircuit, transpile, assemble, execute\n\u001b[0;32m      2\u001b[0m \u001b[38;5;28;01mfrom\u001b[39;00m \u001b[38;5;21;01mqiskit_aer\u001b[39;00m \u001b[38;5;28;01mimport\u001b[39;00m Aer\n\u001b[0;32m      3\u001b[0m \u001b[38;5;28;01mfrom\u001b[39;00m \u001b[38;5;21;01mqiskit\u001b[39;00m\u001b[38;5;21;01m.\u001b[39;00m\u001b[38;5;21;01mvisualization\u001b[39;00m \u001b[38;5;28;01mimport\u001b[39;00m plot_histogram\n",
      "\u001b[1;31mImportError\u001b[0m: cannot import name 'execute' from 'qiskit' (C:\\Users\\pauga\\AppData\\Roaming\\Python\\Python311\\site-packages\\qiskit\\__init__.py)"
     ]
    }
   ],
   "source": [
    "from qiskit import QuantumCircuit, transpile, assemble\n",
    "from qiskit_aer import Aer\n",
    "from qiskit.visualization import plot_histogram\n",
    "from qiskit.circuit.library import QFT\n",
    "from qiskit.algorithms import PhaseEstimation, PhaseEstimationScale, IterativePhaseEstimation, HHL\n",
    "\n",
    "# Crear un simulador\n",
    "simulator = Aer.get_backend('qasm_simulator')\n",
    "\n",
    "# Definir la puerta T\n",
    "T_gate = QuantumCircuit(1)\n",
    "T_gate.t(0)\n",
    "T_gate = T_gate.to_gate()\n",
    "T_gate.label = \"T\"\n",
    "\n",
    "# Configurar la estimación de fase con diferentes métodos\n",
    "num_counting_qubits = 3  # Número de qubits de conteo\n",
    "\n",
    "# Método 1: PhaseEstimation\n",
    "qc1 = QuantumCircuit(num_counting_qubits + 1)\n",
    "qc1.h(range(num_counting_qubits))\n",
    "qc1.append(T_gate.control(num_counting_qubits), range(num_counting_qubits + 1))\n",
    "qc1.append(QFT(num_counting_qubits, inverse=True), range(num_counting_qubits))\n",
    "qc1.measure_all()\n",
    "\n",
    "# Método 2: IterativePhaseEstimation\n",
    "qc2 = QuantumCircuit(num_counting_qubits + 1)\n",
    "qc2.h(range(num_counting_qubits))\n",
    "qc2.append(T_gate.control(num_counting_qubits), range(num_counting_qubits + 1))\n",
    "qc2.append(QFT(num_counting_qubits, inverse=True), range(num_counting_qubits))\n",
    "qc2.measure_all()\n",
    "\n",
    "# Método 3: HHL (para estimación de fase como ejemplo)\n",
    "qc3 = QuantumCircuit(num_counting_qubits + 1)\n",
    "qc3.h(range(num_counting_qubits))\n",
    "qc3.append(T_gate.control(num_counting_qubits), range(num_counting_qubits + 1))\n",
    "qc3.append(QFT(num_counting_qubits, inverse=True), range(num_counting_qubits))\n",
    "qc3.measure_all()\n",
    "\n",
    "# Ejecutar los circuitos\n",
    "qc_list = [qc1, qc2, qc3]\n",
    "qc_results = []\n",
    "\n",
    "for qc in qc_list:\n",
    "    compiled_circuit = transpile(qc, simulator)\n",
    "    qobj = assemble(compiled_circuit)\n",
    "    result = simulator.run(qobj).result()\n",
    "    counts = result.get_counts(qc)\n",
    "    qc_results.append(counts)\n",
    "    print(qc.draw())\n",
    "    plot_histogram(counts).show()\n",
    "\n",
    "# Mostrar los resultados\n",
    "for idx, counts in enumerate(qc_results):\n",
    "    print(f\"Results for method {idx + 1}: {counts}\")\n"
   ]
  },
  {
   "cell_type": "code",
   "execution_count": null,
   "id": "4bf4de43",
   "metadata": {},
   "outputs": [],
   "source": []
  }
 ],
 "metadata": {
  "kernelspec": {
   "display_name": "Python 3 (ipykernel)",
   "language": "python",
   "name": "python3"
  },
  "language_info": {
   "codemirror_mode": {
    "name": "ipython",
    "version": 3
   },
   "file_extension": ".py",
   "mimetype": "text/x-python",
   "name": "python",
   "nbconvert_exporter": "python",
   "pygments_lexer": "ipython3",
   "version": "3.11.4"
  }
 },
 "nbformat": 4,
 "nbformat_minor": 5
}
